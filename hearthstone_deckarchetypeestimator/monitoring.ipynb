{
 "cells": [
  {
   "cell_type": "code",
   "execution_count": 42,
   "metadata": {},
   "outputs": [],
   "source": [
    "import pandas as pd\n",
    "import numpy as np\n",
    "from metaflow import Flow, Step"
   ]
  },
  {
   "cell_type": "code",
   "execution_count": 43,
   "metadata": {},
   "outputs": [],
   "source": [
    "# Monitor the execution\n",
    "flowname = \"ArchetypeEstimator\"\n",
    "flow = Flow(flowname)\n",
    "runid = 1578503177450998\n",
    "\n",
    "\n",
    "step = Step(f\"{flowname}/{runid}/collect_archetypes\")\n",
    "archetypes = step.task.data.archetypes\n",
    "step = Step(f\"{flowname}/{runid}/segment_decks\")\n",
    "df_decks_totrain = step.task.data.df_decks_totrain \n",
    "df_decks_totrain = df_decks_totrain.head()"
   ]
  }
 ],
 "metadata": {
  "kernelspec": {
   "display_name": "sklearn_p36",
   "language": "python",
   "name": "sklearn_p36"
  },
  "language_info": {
   "codemirror_mode": {
    "name": "ipython",
    "version": 3
   },
   "file_extension": ".py",
   "mimetype": "text/x-python",
   "name": "python",
   "nbconvert_exporter": "python",
   "pygments_lexer": "ipython3",
   "version": "3.6.9-final"
  }
 },
 "nbformat": 4,
 "nbformat_minor": 2
}